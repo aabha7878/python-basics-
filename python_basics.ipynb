{
  "nbformat": 4,
  "nbformat_minor": 0,
  "metadata": {
    "colab": {
      "provenance": []
    },
    "kernelspec": {
      "name": "python3",
      "display_name": "Python 3"
    },
    "language_info": {
      "name": "python"
    }
  },
  "cells": [
    {
      "cell_type": "markdown",
      "source": [
        "1.what is Python, and why is it popular\n",
        "\n",
        " -> Python is a high-level, interpreted programming language known for its\n",
        "\n",
        "Simplicity\n",
        "\n",
        "Readability\n",
        "\n",
        "Versatility\n",
        "\n"
      ],
      "metadata": {
        "id": "SRRtGItCNZKr"
      }
    },
    {
      "cell_type": "markdown",
      "source": [
        "2.What is an interpreter in Python\n",
        "\n",
        " ->An interpreter in Python is a program that reads and executes Python code line by line."
      ],
      "metadata": {
        "id": "hP48x7eYO98N"
      }
    },
    {
      "cell_type": "markdown",
      "source": [
        "3.What are pre-defined keywords in Python\n",
        "\n",
        " -> Pre-defined keywords in Python are reserved words that have special meanings and cannot be used as variable names, function names, or identifiers."
      ],
      "metadata": {
        "id": "2Y2BMx-PPd1H"
      }
    },
    {
      "cell_type": "markdown",
      "source": [
        "4.Can keywords be used as variable names\n",
        "\n",
        "->Python keywords are reserved words that have special meaning in the language.no  Using them as variable names will confuse the interpreter and cause an error."
      ],
      "metadata": {
        "id": "Bdzr8ZI3QOVO"
      }
    },
    {
      "cell_type": "markdown",
      "source": [
        "5.What is mutability in Python\n",
        "\n",
        "-> Mutability in Python refers to whether or not an object can be changed after it is created.\n",
        "\n"
      ],
      "metadata": {
        "id": "z3NCMNvpQieS"
      }
    },
    {
      "cell_type": "markdown",
      "source": [
        "6.Why are lists mutable, but tuples are immutable\n",
        "\n",
        "\n",
        " -> Lists are Mutable because:\n",
        "\n",
        "*Lists are meant for dynamic data.\n",
        "\n",
        "*You often add, remove, or modify elements in a list.\n",
        "\n",
        "*So Python allows lists to be modified after creation.\n",
        "\n",
        "->Tuples are Immutable because:\n",
        "\n",
        "*Tuples are meant for fixed collections.\n",
        "\n",
        "*They are used when data should not change, like coordinates (x, y) or fixed settings."
      ],
      "metadata": {
        "id": "xuvjGVynQz1f"
      }
    },
    {
      "cell_type": "markdown",
      "source": [
        "7.What is the difference between “==” and “is” operators in Python\n",
        "\n",
        "->In Python, == checks if values are the same, while is checks if both variables point to the same object in memory. For example, two lists with the same data will be equal (==), but not identical (is). Use == to compare content, and is to check identity, like if x is None.\n",
        "\n",
        "\n"
      ],
      "metadata": {
        "id": "HxjsofvdRfnA"
      }
    },
    {
      "cell_type": "markdown",
      "source": [
        "8.What are logical operators in Python\n",
        "\n",
        "->Logical operators in Python are used to combine conditional statements. They return True or False based on the logic applied"
      ],
      "metadata": {
        "id": "8aJdav4DSBkL"
      }
    },
    {
      "cell_type": "markdown",
      "source": [
        "9.What is type casting in Python\n",
        "\n",
        " -> type casting in Python means converting one data type into another."
      ],
      "metadata": {
        "id": "61HCzS3hdn2C"
      }
    },
    {
      "cell_type": "markdown",
      "source": [
        "10.What is the difference between implicit and explicit type casting\n",
        "\n",
        "-> The difference between implicit and explicit type casting in Python lies in how the conversion between data types is performed. In implicit type casting, the conversion is done automatically by Python during program execution. This usually happens when different data types are used in an expression, and Python safely converts the smaller data type (like int) to a larger one (like float) to avoid data loss. For example, if you add an integer and a float (5 + 2.5), Python will automatically convert the integer to a float, and the result will be a float (7.5).\n",
        "\n",
        "On the other hand, explicit type casting is done manually by the programmer using built-in functions such as int(), float(), str(), etc. It is used when you need to convert one data type to another intentionally. For instance, if you have a string \"10\" and want to perform arithmetic, you can convert it using int(\"10\") to get the integer 10. While implicit casting is safe and automatic, explicit casting gives more control but may cause errors or data loss if not done properly"
      ],
      "metadata": {
        "id": "9up70CtXd4H8"
      }
    },
    {
      "cell_type": "markdown",
      "source": [
        "11.What is the purpose of conditional statements in Python\n",
        "\n",
        "->he purpose of conditional statements in Python is to allow the program to make decisions and execute different blocks of code based on certain conditions."
      ],
      "metadata": {
        "id": "i63eAzc6eX3b"
      }
    },
    {
      "cell_type": "markdown",
      "source": [
        "12.How does the elif statement work\n",
        "\n",
        "-> The elif (short for \"else if\") statement in Python is used to check multiple conditions one after another"
      ],
      "metadata": {
        "id": "ubBQ9OmmgEUw"
      }
    },
    {
      "cell_type": "markdown",
      "source": [
        "13.What is the difference between for and while loops\n",
        "\n",
        "->for loop is used when you know how many times you want to repeat something.\n",
        "while loop is used when you want to repeat until a condition becomes false.\n",
        "\n"
      ],
      "metadata": {
        "id": "zbkBXP5XgobV"
      }
    },
    {
      "cell_type": "markdown",
      "source": [
        "14.Describe a scenario where a while loop is more suitable than a for loop\n",
        "\n",
        "->Suppose you are asking a user to enter the correct password.\n",
        "You don’t know how many times the user will enter the wrong password, so you use a while loop to keep checking until the correct password is entered."
      ],
      "metadata": {
        "id": "8W_nqNEchGo7"
      }
    },
    {
      "cell_type": "markdown",
      "source": [
        "### **PRACTICAL QUESTIONS**##"
      ],
      "metadata": {
        "id": "RwQcNHn_hsHW"
      }
    },
    {
      "cell_type": "code",
      "source": [
        "# Write a Python program to print \"Hello, World!?\n"
      ],
      "metadata": {
        "id": "ZmqqAgdiib1t"
      },
      "execution_count": null,
      "outputs": []
    },
    {
      "cell_type": "code",
      "source": [
        "print(\"hello,world!\")"
      ],
      "metadata": {
        "colab": {
          "base_uri": "https://localhost:8080/"
        },
        "id": "qVjNg5xHin2V",
        "outputId": "0e8d3a19-5c7e-4e59-f7b1-07f6ba0eed59"
      },
      "execution_count": null,
      "outputs": [
        {
          "output_type": "stream",
          "name": "stdout",
          "text": [
            "hello,world!\n"
          ]
        }
      ]
    },
    {
      "cell_type": "code",
      "source": [
        "# Write a Python program that displays your name and age?"
      ],
      "metadata": {
        "id": "H2CblKK5i_vm"
      },
      "execution_count": null,
      "outputs": []
    },
    {
      "cell_type": "code",
      "source": [
        "name=\"aabha\"\n",
        "age=18\n",
        "print(name)\n",
        "print(age)"
      ],
      "metadata": {
        "colab": {
          "base_uri": "https://localhost:8080/"
        },
        "id": "BI2C3e9mjobs",
        "outputId": "d1e8bf5d-7c36-481c-e4be-9cd663825354"
      },
      "execution_count": null,
      "outputs": [
        {
          "output_type": "stream",
          "name": "stdout",
          "text": [
            "aabha\n",
            "18\n"
          ]
        }
      ]
    },
    {
      "cell_type": "code",
      "source": [
        "#Write code to print all the pre-defined keywords in Python using the keyword library?"
      ],
      "metadata": {
        "id": "pCOpIT8tkTfo"
      },
      "execution_count": null,
      "outputs": []
    },
    {
      "cell_type": "code",
      "source": [
        "import keyword\n",
        "\n",
        "print(keyword.kwlist)\n"
      ],
      "metadata": {
        "colab": {
          "base_uri": "https://localhost:8080/"
        },
        "id": "8RF6cEZUkoMA",
        "outputId": "14b32dbe-28eb-44e5-bcec-5dc6cea35d9c"
      },
      "execution_count": null,
      "outputs": [
        {
          "output_type": "stream",
          "name": "stdout",
          "text": [
            "['False', 'None', 'True', 'and', 'as', 'assert', 'async', 'await', 'break', 'class', 'continue', 'def', 'del', 'elif', 'else', 'except', 'finally', 'for', 'from', 'global', 'if', 'import', 'in', 'is', 'lambda', 'nonlocal', 'not', 'or', 'pass', 'raise', 'return', 'try', 'while', 'with', 'yield']\n"
          ]
        }
      ]
    },
    {
      "cell_type": "code",
      "source": [
        "#Write a program that checks if a given word is a Python keyword."
      ],
      "metadata": {
        "id": "KxRWbw1GksS1"
      },
      "execution_count": null,
      "outputs": []
    },
    {
      "cell_type": "code",
      "source": [
        "import keyword\n",
        "\n",
        "w = input(\"Enter word: \")\n",
        "\n",
        "if keyword.iskeyword(w):\n",
        "    print(\"Keyword\")\n",
        "else:\n",
        "    print(\"Not a keyword\")\n"
      ],
      "metadata": {
        "colab": {
          "base_uri": "https://localhost:8080/"
        },
        "id": "46gphq9BlLQn",
        "outputId": "3837c4f9-85fc-4104-c9a6-acefff9d1dee"
      },
      "execution_count": null,
      "outputs": [
        {
          "output_type": "stream",
          "name": "stdout",
          "text": [
            "Enter word: while\n",
            "Keyword\n"
          ]
        }
      ]
    },
    {
      "cell_type": "code",
      "source": [
        "#Create a list and tuple in Python, and demonstrate how attempting to change an\n",
        " element works differently for each?"
      ],
      "metadata": {
        "id": "xltcJmeilyWY"
      },
      "execution_count": null,
      "outputs": []
    },
    {
      "cell_type": "code",
      "source": [
        "# Create a list and a tuple\n",
        "list = [10, 20, 30]\n",
        "tuple = (10, 20, 30)\n",
        "\n",
        "\n",
        "list[2]=(89)\n",
        "print(\"Modified list:\", list)\n",
        "\n",
        "# Try to change an element in the tuple\n",
        "try:\n",
        "    tuple[2] = 89\n",
        "except TypeError as e:\n",
        "    print(\"Error while modifying tuple:\", e)\n"
      ],
      "metadata": {
        "colab": {
          "base_uri": "https://localhost:8080/"
        },
        "id": "KVBbkrw8mPzx",
        "outputId": "c462bb54-7785-41c5-dd6e-fd26a531d747"
      },
      "execution_count": null,
      "outputs": [
        {
          "output_type": "stream",
          "name": "stdout",
          "text": [
            "Modified list: [10, 20, 89]\n",
            "Error while modifying tuple: 'tuple' object does not support item assignment\n"
          ]
        }
      ]
    },
    {
      "cell_type": "code",
      "source": [
        "#. Write a function to demonstrate the behavior of mutable and immutable\n",
        "arguments"
      ],
      "metadata": {
        "id": "3GJ494oPnBZ5"
      },
      "execution_count": null,
      "outputs": []
    },
    {
      "cell_type": "code",
      "source": [
        "list=['2','4','9']# list are mutable\n",
        "list.append(4)\n",
        "print (list)\n",
        "\n",
        "#tuple are immutable\n",
        "tuple=('2','4','9')\n",
        "# tuple[4]=8 # This line causes an error because tuples are immutable\n",
        "print(tuple )# they give a error"
      ],
      "metadata": {
        "id": "zcOy27wun8Kh",
        "colab": {
          "base_uri": "https://localhost:8080/"
        },
        "outputId": "55847c41-e487-4365-9012-60693452c4b5"
      },
      "execution_count": 26,
      "outputs": [
        {
          "output_type": "stream",
          "name": "stdout",
          "text": [
            "['2', '4', '9', 4]\n",
            "('2', '4', '9')\n"
          ]
        }
      ]
    },
    {
      "cell_type": "code",
      "source": [
        "#Write a program that performs basic arithmetic operations on two user-input no."
      ],
      "metadata": {
        "id": "sF5SW_8ln82P"
      },
      "execution_count": null,
      "outputs": []
    },
    {
      "cell_type": "code",
      "source": [
        "a=int(input(\"enter number one:\"))\n",
        "b=int(input(\"enter number two:\"))\n",
        "print(\"addition:\",a+b)\n",
        "print(\"subtraction:\",a-b)\n",
        "print(\"multiplication:\",a*b)\n",
        "print(\"division:\",a/b)"
      ],
      "metadata": {
        "colab": {
          "base_uri": "https://localhost:8080/"
        },
        "id": "93cLNy-BoB0w",
        "outputId": "5646eb2c-835f-4660-ed6a-ae9b67fe86a3"
      },
      "execution_count": null,
      "outputs": [
        {
          "output_type": "stream",
          "name": "stdout",
          "text": [
            "enter number one:23\n",
            "enter number two:20\n",
            "addition: 43\n",
            "subtraction: 3\n",
            "multiplication: 460\n",
            "division: 1.15\n"
          ]
        }
      ]
    },
    {
      "cell_type": "code",
      "source": [
        "# Write a program to demonstrate the use of logical operators."
      ],
      "metadata": {
        "id": "g2TLdY9qo6YP"
      },
      "execution_count": null,
      "outputs": []
    },
    {
      "cell_type": "code",
      "source": [
        "a = 10\n",
        "b = 5\n",
        "\n",
        "# Logical AND\n",
        "print(\"AND:\", a > 5 and b > 2)\n",
        "\n",
        "# Logical OR\n",
        "print(\"OR:\", a < 5 or b > 2)\n",
        "\n",
        "# Logical NOT\n",
        "print(\"NOT:\", not(a > b))\n"
      ],
      "metadata": {
        "colab": {
          "base_uri": "https://localhost:8080/"
        },
        "id": "W8rZrs5Xpj__",
        "outputId": "039fbc94-7504-4243-84cd-78940fe4a0bd"
      },
      "execution_count": null,
      "outputs": [
        {
          "output_type": "stream",
          "name": "stdout",
          "text": [
            "AND: True\n",
            "OR: True\n",
            "NOT: False\n"
          ]
        }
      ]
    },
    {
      "cell_type": "code",
      "source": [
        "#Write a Python program to convert user input from string to integer, float, and\n",
        "boolean types."
      ],
      "metadata": {
        "id": "3ghWVRBKqkBv"
      },
      "execution_count": null,
      "outputs": []
    },
    {
      "cell_type": "code",
      "source": [
        "user_input=input(\"enter a number:\")\n",
        "\n",
        "a=int(user_input)\n",
        "b=float(user_input)\n",
        "c=bool(user_input)\n",
        "\n",
        "print(\"int:\",a)\n",
        "print(\"float:\",b)\n",
        "print(\"bool:\",c)"
      ],
      "metadata": {
        "colab": {
          "base_uri": "https://localhost:8080/"
        },
        "id": "7JwyWjAgDfiJ",
        "outputId": "8bd2f338-0815-4ee3-de9e-4d7739f5589e"
      },
      "execution_count": 1,
      "outputs": [
        {
          "output_type": "stream",
          "name": "stdout",
          "text": [
            "enter a number:23\n",
            "int: 23\n",
            "float: 23.0\n",
            "bool: True\n"
          ]
        }
      ]
    },
    {
      "cell_type": "code",
      "source": [
        " #Write code to demonstrate type casting with list elements"
      ],
      "metadata": {
        "id": "_USM65vnECi9"
      },
      "execution_count": null,
      "outputs": []
    },
    {
      "cell_type": "code",
      "source": [
        "data = ['10', '20', '30']\n",
        "\n",
        "print(\"original list:\",data)\n",
        "\n",
        "# Convert to int\n",
        "print(\"Casting to int:\")\n",
        "for item in data:\n",
        "    print(int(item))\n",
        "\n",
        "# Convert to float\n",
        "print(\"Casting to float:\")\n",
        "for item in data:\n",
        "    print(float(item))\n",
        "\n",
        "# Convert to bool\n",
        "print(\"Casting to bool:\")\n",
        "for item in data:\n",
        "    print(bool(item))\n",
        "\n",
        "# Convert to string (already strings, just showing)\n",
        "print(\"Casting to str:\")\n",
        "for item in data:\n",
        "    print(str(item))\n",
        "\n"
      ],
      "metadata": {
        "colab": {
          "base_uri": "https://localhost:8080/"
        },
        "id": "4PGE7TOTELl3",
        "outputId": "425d5f07-9b7f-43f6-83e2-1f63f3be1104"
      },
      "execution_count": 5,
      "outputs": [
        {
          "output_type": "stream",
          "name": "stdout",
          "text": [
            "original list: ['10', '20', '30']\n",
            "Casting to int:\n",
            "10\n",
            "20\n",
            "30\n",
            "Casting to float:\n",
            "10.0\n",
            "20.0\n",
            "30.0\n",
            "Casting to bool:\n",
            "True\n",
            "True\n",
            "True\n",
            "Casting to str:\n",
            "10\n",
            "20\n",
            "30\n"
          ]
        }
      ]
    },
    {
      "cell_type": "code",
      "source": [
        "# Write a program that checks if a number is positive, negative, or zero."
      ],
      "metadata": {
        "id": "jFjwmFvsF9m0"
      },
      "execution_count": null,
      "outputs": []
    },
    {
      "cell_type": "code",
      "source": [
        "num=int(input(\"enter a number:\"))\n",
        "\n",
        "if (num>0):\n",
        "  print(\"positive number\")\n",
        "if(num<0):\n",
        "  print(\"negative number\")\n",
        "else:\n",
        "  print(\"zero\")"
      ],
      "metadata": {
        "colab": {
          "base_uri": "https://localhost:8080/"
        },
        "id": "TdIizhjJGI4M",
        "outputId": "75c589d8-e03b-4a7b-ee01-72f801873cb6"
      },
      "execution_count": 7,
      "outputs": [
        {
          "output_type": "stream",
          "name": "stdout",
          "text": [
            "enter a number:-9\n",
            "negative number\n"
          ]
        }
      ]
    },
    {
      "cell_type": "code",
      "source": [
        "#Write a for loop to print numbers from 1 to 10."
      ],
      "metadata": {
        "id": "DACBZIfkGrke"
      },
      "execution_count": null,
      "outputs": []
    },
    {
      "cell_type": "code",
      "source": [
        "for i in range(1,11):\n",
        "  print(i)"
      ],
      "metadata": {
        "colab": {
          "base_uri": "https://localhost:8080/"
        },
        "id": "iBlrC_5TGwxQ",
        "outputId": "cac90af3-6a6f-423d-ca95-f6c032885bd9"
      },
      "execution_count": 8,
      "outputs": [
        {
          "output_type": "stream",
          "name": "stdout",
          "text": [
            "1\n",
            "2\n",
            "3\n",
            "4\n",
            "5\n",
            "6\n",
            "7\n",
            "8\n",
            "9\n",
            "10\n"
          ]
        }
      ]
    },
    {
      "cell_type": "code",
      "source": [
        "# Write a Python program to find the sum of all even numbers between 1 and 50"
      ],
      "metadata": {
        "id": "NYfzn3n4G5Z5"
      },
      "execution_count": null,
      "outputs": []
    },
    {
      "cell_type": "code",
      "source": [
        "total = 0  # Initialize total to 0\n",
        "for i in range(2, 51, 2):\n",
        "  print(i)\n",
        "  total += i  # Add the even number to the total\n",
        "\n",
        "print(\"sum of even no:\", total)"
      ],
      "metadata": {
        "colab": {
          "base_uri": "https://localhost:8080/"
        },
        "id": "OEP-Wz9VHALu",
        "outputId": "c81e9268-1e7c-406f-e8d1-ec5fe9c042fb"
      },
      "execution_count": 13,
      "outputs": [
        {
          "output_type": "stream",
          "name": "stdout",
          "text": [
            "2\n",
            "4\n",
            "6\n",
            "8\n",
            "10\n",
            "12\n",
            "14\n",
            "16\n",
            "18\n",
            "20\n",
            "22\n",
            "24\n",
            "26\n",
            "28\n",
            "30\n",
            "32\n",
            "34\n",
            "36\n",
            "38\n",
            "40\n",
            "42\n",
            "44\n",
            "46\n",
            "48\n",
            "50\n",
            "sum of even no: 650\n"
          ]
        }
      ]
    },
    {
      "cell_type": "code",
      "source": [
        "# Write a program to reverse a string using a while loop"
      ],
      "metadata": {
        "id": "xjzrFESTH5pB"
      },
      "execution_count": null,
      "outputs": []
    },
    {
      "cell_type": "code",
      "source": [
        "text = input(\"Enter a string: \")\n",
        "\n",
        "i = len(text) - 1\n",
        "rev = \"\"\n",
        "\n",
        "while i >= 0:\n",
        "    rev = rev + text[i]\n",
        "    i = i - 1\n",
        "\n",
        "print(\"Reversed string:\", rev)\n"
      ],
      "metadata": {
        "colab": {
          "base_uri": "https://localhost:8080/"
        },
        "id": "3dtHVUG3IHjy",
        "outputId": "31701ce3-f582-4b6a-f6bd-744a9686f6be"
      },
      "execution_count": 14,
      "outputs": [
        {
          "output_type": "stream",
          "name": "stdout",
          "text": [
            "Enter a string: aabha\n",
            "Reversed string: ahbaa\n"
          ]
        }
      ]
    },
    {
      "cell_type": "code",
      "source": [
        "# Write a Python program to calculate the factorial of a number provided by the\n",
        "user using a while loop."
      ],
      "metadata": {
        "id": "wgTwt-K8IsWU"
      },
      "execution_count": null,
      "outputs": []
    },
    {
      "cell_type": "code",
      "source": [
        "num=int(input(\"enter a number:\"))\n",
        "\n",
        "fact=1\n",
        "while num>0:\n",
        "  fact= fact*num\n",
        "  num-=1\n",
        "\n",
        "  print(\"factorial:\",fact)"
      ],
      "metadata": {
        "colab": {
          "base_uri": "https://localhost:8080/"
        },
        "id": "7AIgPDnBIzCJ",
        "outputId": "5a304e0b-eeb3-4518-af0d-8648114efcec"
      },
      "execution_count": 24,
      "outputs": [
        {
          "output_type": "stream",
          "name": "stdout",
          "text": [
            "enter a number:5\n",
            "factorial: 5\n",
            "factorial: 20\n",
            "factorial: 60\n",
            "factorial: 120\n",
            "factorial: 120\n"
          ]
        }
      ]
    }
  ]
}